{
 "cells": [
  {
   "cell_type": "code",
   "execution_count": 3,
   "id": "3cdd81ac-a6d8-4ea8-9968-02fad5ee7472",
   "metadata": {},
   "outputs": [
    {
     "name": "stdin",
     "output_type": "stream",
     "text": [
      "Enter the student's last name (or 'ZZZ' to quit):  clark\n",
      "Enter the student's first name:  kent\n",
      "Enter the student's GPA:  3.0\n",
      "Enter the student's last name (or 'ZZZ' to quit):  bruce\n",
      "Enter the student's first name:  banner\n",
      "Enter the student's GPA:  4.0\n",
      "Enter the student's last name (or 'ZZZ' to quit):  slade\n",
      "Enter the student's first name:  wilson\n",
      "Enter the student's GPA:  2.5\n",
      "Enter the student's last name (or 'ZZZ' to quit):  ZZZ\n"
     ]
    },
    {
     "name": "stdout",
     "output_type": "stream",
     "text": [
      "kent clark does not qualify for any academic recognition.\n",
      "banner bruce has made the Dean's List.\n",
      "wilson slade does not qualify for any academic recognition.\n"
     ]
    }
   ],
   "source": [
    "# Oluwaferanmi Ayewumi\n",
    "# if else and while.ipynb\n",
    "# This Python app  accepts student names and GPAs to check for Dean's List (GPA ≥ 3.5) or Honor Roll (GPA ≥ 3.25). The app stops when \"ZZZ\" is entered as the last name.\n",
    "\n",
    "student_names = []\n",
    "student_gpas = []\n",
    "\n",
    "while True:\n",
    "    last_name = input(\"Enter the student's last name (or 'ZZZ' to quit): \").strip()\n",
    "\n",
    "    if last_name == 'ZZZ':\n",
    "        break\n",
    "\n",
    "    first_name = input(\"Enter the student's first name: \")\n",
    "    gpa = float(input(\"Enter the student's GPA: \"))\n",
    "\n",
    "    # Add student information to lists\n",
    "    student_names.append((first_name, last_name))\n",
    "    student_gpas.append(gpa)\n",
    "\n",
    "# Test and print qualifications\n",
    "for i in range(len(student_names)):\n",
    "    first_name, last_name = student_names[i]\n",
    "    gpa = student_gpas[i]\n",
    "\n",
    "    if gpa >= 3.5:\n",
    "        print(f\"{first_name} {last_name} has made the Dean's List.\")\n",
    "    elif gpa >= 3.25:\n",
    "        print(f\"{first_name} {last_name} has made the Honor Roll.\")\n",
    "    else:\n",
    "        print(f\"{first_name} {last_name} does not qualify for any academic recognition.\")"
   ]
  }
 ],
 "metadata": {
  "kernelspec": {
   "display_name": "Python 3 (ipykernel)",
   "language": "python",
   "name": "python3"
  },
  "language_info": {
   "codemirror_mode": {
    "name": "ipython",
    "version": 3
   },
   "file_extension": ".py",
   "mimetype": "text/x-python",
   "name": "python",
   "nbconvert_exporter": "python",
   "pygments_lexer": "ipython3",
   "version": "3.12.7"
  }
 },
 "nbformat": 4,
 "nbformat_minor": 5
}
